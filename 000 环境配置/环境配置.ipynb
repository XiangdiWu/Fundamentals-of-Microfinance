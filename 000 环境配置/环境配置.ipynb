{
 "cells": [
  {
   "cell_type": "markdown",
   "metadata": {},
   "source": [
    "# 基础入门"
   ]
  },
  {
   "cell_type": "markdown",
   "metadata": {},
   "source": [
    "## 环境配置"
   ]
  },
  {
   "cell_type": "markdown",
   "metadata": {},
   "source": [
    "前提条件：具备Python环境，即已经安装PyCharm和Anconda\n",
    "\n",
    "Win+R，输入cmd，打开命令行，在命令行中输入以下代码：\n",
    "\n",
    "pip install pandas\n",
    "\n",
    "pip install openpyxl\n",
    "\n",
    "pip3 install --user numpy scipy matplotlib\n",
    "\n",
    "pip install tushare\n",
    "\n",
    "pip install yfinance\n",
    "\n",
    "pip install matplotlib\n",
    "\n",
    "pip install statsmodels\n",
    "\n",
    "pip install seaborn\n",
    "\n",
    "也可以在PyCharm和Anconda中配置。\n",
    "\n",
    "确保你使用的是与你的Python环境相匹配的pip版本。如果你同时安装了Python 2和Python 3，可能需要使用pip3来代替pip。"
   ]
  },
  {
   "cell_type": "markdown",
   "metadata": {},
   "source": [
    "## Jupyter Notebook 快捷键"
   ]
  },
  {
   "cell_type": "markdown",
   "metadata": {},
   "source": [
    "\n",
    "命令模式 按键 Esc 开启\n",
    "\n",
    "Enter : 转入编辑模式\n",
    "\n",
    "Shift-Enter : 运行本单元，选中下个单元\n",
    "\n",
    "Ctrl-Enter : 运行本单元\n",
    "\n",
    "Alt-Enter : 运行本单元，在其下插入新单元"
   ]
  },
  {
   "cell_type": "markdown",
   "metadata": {},
   "source": [
    "## Library"
   ]
  },
  {
   "cell_type": "code",
   "execution_count": 2,
   "metadata": {},
   "outputs": [],
   "source": [
    "import pandas as pd\n",
    "import numpy as np\n",
    "import datetime as dt\n",
    "import yfinance as yf \n",
    "import matplotlib.pyplot as plt\n",
    "%matplotlib inline\n",
    "\n",
    "plt.rcParams['font.sans-serif'] = ['SimHei'] #中文显示问题\n",
    "plt.rcParams['axes.unicode_minus'] = False #负数显示问题\n",
    "\n",
    "from scipy.stats import norm\n",
    "import math\n",
    "import seaborn as sns\n",
    "\n",
    "# 设置你的API token\n",
    "import tushare as ts\n",
    "# 初始化pro接口\n",
    "pro = ts.pro_api()\n",
    "# pro = ts.pro_api('your token')\n",
    "pro = ts.pro_api('a4bc8c4cd23cb955ec7ae1d019c7bbd4babc61e9a61ad8fde2feea00')\n"
   ]
  }
 ],
 "metadata": {
  "kernelspec": {
   "display_name": "base",
   "language": "python",
   "name": "python3"
  },
  "language_info": {
   "codemirror_mode": {
    "name": "ipython",
    "version": 3
   },
   "file_extension": ".py",
   "mimetype": "text/x-python",
   "name": "python",
   "nbconvert_exporter": "python",
   "pygments_lexer": "ipython3",
   "version": "3.12.4"
  }
 },
 "nbformat": 4,
 "nbformat_minor": 2
}
