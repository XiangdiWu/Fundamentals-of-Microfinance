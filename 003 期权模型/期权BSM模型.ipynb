{
 "cells": [
  {
   "cell_type": "markdown",
   "metadata": {},
   "source": [
    "# 期权BSM模型"
   ]
  },
  {
   "cell_type": "markdown",
   "metadata": {},
   "source": [
    "## BSM模型的假定"
   ]
  },
  {
   "cell_type": "code",
   "execution_count": null,
   "metadata": {},
   "outputs": [],
   "source": [
    "#call的计算\n",
    "def call_BS(S,K,sigma,r,T):\n",
    "    import numpy as np\n",
    "    from scipy.stats import norm\n",
    "    d1 = (np.log(S/K)+(r+sigma**2/2)*T)/(sigma*np.sqrt(T))\n",
    "    d2 = d1 - sigma*np.sqrt(T)\n",
    "    return S*norm.cdf(d1) - K*np.exp(-r*T)*norm.cdf(d2)\n",
    "#put的计算\n",
    "def put_BS(S,K,sigma,r,T):\n",
    "    import numpy as np\n",
    "    from scipy.stats import norm\n",
    "    d1 = (np.log(S/K)+(r+sigma**2/2)*T)/(sigma*np.sqrt(T))\n",
    "    d2 = d1 - sigma*np.sqrt(T)\n",
    "    return K*np.exp(-r*T)*norm.cdf(-d2) - S*norm.cdf(-d1)\n",
    "\n",
    "call = call_BS(S = 5.29,K=6,sigma=0.24,r=0.04,T=0.5)\n",
    "put = put_BS(S = 5.29,K=6,sigma=0.24,r=0.04,T=0.5)\n",
    "print('看涨期权的价格：',round(call,4))\n",
    "print('看跌期权的价格：',round(put,4))\n",
    "看涨期权的价格： 0.1532\n",
    "看跌期权的价格： 0.7443\n"
   ]
  },
  {
   "cell_type": "markdown",
   "metadata": {},
   "source": [
    "## 期权价格与相关变量的关系\n",
    "### 期权价格与标的物（S）价格的关系"
   ]
  },
  {
   "cell_type": "code",
   "execution_count": null,
   "metadata": {},
   "outputs": [],
   "source": [
    "# 标的价格的变动\n",
    "S_list = np.linspace(5,7,100)\n",
    "call_list1 = call_BS(S = S_list,K=6,sigma=0.24,r=0.04,T=0.5)\n",
    "put_list1 = put_BS(S = S_list,K=6,sigma=0.24,r=0.04,T=0.5)\n",
    "\n",
    "#画图展示\n",
    "plt.figure(figsize=(8,6))\n",
    "plt.plot(S_list,call_list1,label='看涨期权')\n",
    "plt.plot(S_list,put_list1,label='看跌期权')\n",
    "plt.legend()\n",
    "plt.grid('True')\n"
   ]
  },
  {
   "cell_type": "markdown",
   "metadata": {},
   "source": [
    "### 期权价格与执行价格（K）的关系"
   ]
  },
  {
   "cell_type": "code",
   "execution_count": null,
   "metadata": {},
   "outputs": [],
   "source": [
    "# 执行价格的变动\n",
    "K_list = np.linspace(5,7,100)\n",
    "call_list1 = call_BS(S = 5.29,K=K_list,sigma=0.24,r=0.04,T=0.5)\n",
    "put_list1 = put_BS(S = 5.29,K=K_list,sigma=0.24,r=0.04,T=0.5)\n",
    "\n",
    "plt.figure(figsize=(8,6))\n",
    "plt.plot(K_list,call_list1,label='看涨期权')\n",
    "plt.plot(K_list,put_list1,label='看跌期权')\n",
    "plt.legend()\n",
    "plt.grid('True')\n"
   ]
  },
  {
   "cell_type": "markdown",
   "metadata": {},
   "source": [
    "### 期权价格与波动率（sigma）的关系"
   ]
  },
  {
   "cell_type": "code",
   "execution_count": null,
   "metadata": {},
   "outputs": [],
   "source": [
    "# 波动率的变动\n",
    "sigma_list = np.linspace(0.05,0.35,100)\n",
    "call_list1 = call_BS(S = 5.29,K=6,sigma=sigma_list,r=0.04,T=0.5)\n",
    "put_list1 = put_BS(S = 5.29,K=6,sigma=sigma_list,r=0.04,T=0.5)\n",
    "\n",
    "plt.figure(figsize=(8,6))\n",
    "plt.plot(sigma_list,call_list1,label='看涨期权')\n",
    "plt.plot(sigma_list,put_list1,label='看跌期权')\n",
    "plt.legend()\n",
    "plt.grid('True')\n"
   ]
  },
  {
   "cell_type": "markdown",
   "metadata": {},
   "source": [
    "### 期权价格与无风险收益率（r）的关系"
   ]
  },
  {
   "cell_type": "code",
   "execution_count": null,
   "metadata": {},
   "outputs": [],
   "source": [
    "# 无风险收益率的变动\n",
    "r_list = np.linspace(0.01,0.1,100)\n",
    "call_list1 = call_BS(S = 5.29,K=6,sigma=0.24,r=r_list,T=0.5)\n",
    "put_list1 = put_BS(S = 5.29,K=6,sigma=0.24,r=r_list,T=0.5)\n",
    "\n",
    "plt.figure(figsize=(8,6))\n",
    "plt.plot(r_list,call_list1,label='看涨期权')\n",
    "plt.plot(r_list,put_list1,label='看跌期权')\n",
    "plt.legend()\n",
    "plt.grid('True')\n"
   ]
  },
  {
   "cell_type": "markdown",
   "metadata": {},
   "source": [
    "### 期权价格与期权剩余期限（t）的关系"
   ]
  },
  {
   "cell_type": "code",
   "execution_count": null,
   "metadata": {},
   "outputs": [],
   "source": [
    "# 时间的变动\n",
    "T_list = np.linspace(0.01,3,100)\n",
    "call_list1 = call_BS(S = 5.29,K=6,sigma=0.24,r=0.04,T=T_list)\n",
    "put_list1 = put_BS(S = 5.29,K=6,sigma=0.24,r=0.04,T=T_list)\n",
    "\n",
    "plt.figure(figsize=(8,6))\n",
    "plt.plot(T_list,call_list1,label='看涨期权')\n",
    "plt.plot(T_list,put_list1,label='看跌期权')\n",
    "plt.legend()\n",
    "plt.grid('True')\n"
   ]
  }
 ],
 "metadata": {
  "language_info": {
   "name": "python"
  }
 },
 "nbformat": 4,
 "nbformat_minor": 2
}
