{
 "cells": [
  {
   "cell_type": "markdown",
   "metadata": {},
   "source": [
    "看涨期权到期时的盈亏"
   ]
  },
  {
   "cell_type": "code",
   "execution_count": null,
   "metadata": {},
   "outputs": [],
   "source": [
    "import numpy as np\n",
    "import pandas as pd\n",
    "import matplotlib.pyplot as plt\n",
    "\n",
    "plt.rcParams['font.sans-serif'] = ['SimHei'] #中文显示问题\n",
    "plt.rcParams['axes.unicode_minus'] = False #负数显示问题\n",
    "\n",
    "# 计算看涨期权的盈亏\n",
    "S = np.linspace(30,70,100)\n",
    "K = 50\n",
    "C = 6\n",
    "call1 = 100*np.maximum(S-K,0)\n",
    "call2 = 100*np.maximum(S-K-C,-C)\n",
    "\n",
    "# 画出看涨期权的盈亏图\n",
    "plt.figure(figsize=(12,6))\n",
    "plt.subplot(1,2,1)\n",
    "plt.plot(S, call1,'--',label='不考虑期权费的看涨期权多头收益')\n",
    "plt.plot(S, call2,label='考虑期权费的看涨期权多头收益')\n",
    "plt.legend()\n",
    "plt.grid('True')\n",
    "\n",
    "plt.subplot(1,2,2)\n",
    "plt.plot(S, -call1,'--',label='不考虑期权费的看涨期权空头收益')\n",
    "plt.plot(S, -call2,label='考虑期权费的看涨期权空头收益')\n",
    "plt.legend()\n",
    "plt.grid('True')\n"
   ]
  },
  {
   "cell_type": "markdown",
   "metadata": {},
   "source": [
    "看跌期权到期时的盈亏"
   ]
  },
  {
   "cell_type": "code",
   "execution_count": null,
   "metadata": {},
   "outputs": [],
   "source": [
    "#看跌期权\n",
    "S = np.linspace(30,70,100)\n",
    "K = 50\n",
    "P = 5\n",
    "put1 = 100*np.maximum(K-S,0)\n",
    "put2 = 100*np.maximum(K-S-P,-P)\n",
    "\n",
    "plt.figure(figsize=(12,6))\n",
    "plt.subplot(1,2,1)\n",
    "plt.plot(S, put1,'--',label='不考虑期权费的看跌期权多头收益')\n",
    "plt.plot(S, put2,label='考虑期权费的看跌期权多头收益')\n",
    "plt.legend()\n",
    "plt.grid('True')\n",
    "\n",
    "plt.subplot(1,2,2)\n",
    "plt.plot(S, -put1,'--',label='不考虑期权费的看跌期权空头收益')\n",
    "plt.plot(S, -put2,label='考虑期权费的看跌期权空头收益')\n",
    "plt.legend()\n",
    "plt.grid('True')\n"
   ]
  }
 ],
 "metadata": {
  "language_info": {
   "name": "python"
  }
 },
 "nbformat": 4,
 "nbformat_minor": 2
}
