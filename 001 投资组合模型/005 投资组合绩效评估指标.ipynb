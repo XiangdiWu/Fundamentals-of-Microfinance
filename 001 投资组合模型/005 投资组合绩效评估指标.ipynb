{
 "cells": [
  {
   "cell_type": "code",
   "execution_count": null,
   "metadata": {},
   "outputs": [],
   "source": [
    "import pandas as pd\n",
    "import numpy as np\n",
    "\n",
    "fund = pd.read_excel(r'四只开放式股票型基金的净值.xlsx',header = 0,index_col = 0)\n",
    "\n",
    "# 夏普比率\n",
    "def SR(Rp,Rf,Vp):\n",
    "    return (Rp - Rf)/Vp\n",
    "   \n",
    "R_fund = np.log(fund/fund.shift(1)) #基金的日对数收益率\n",
    "R_fund = R_fund.dropna()\n",
    "R_mean = R_fund.mean()*252 #计算全部3年的平均年化收益率\n",
    "sigma = R_fund.std()*np.sqrt(252) #计算全部3年的平均年化收益波动率\n",
    "R_f = 0.015 #无风险利率\n",
    "SR_3years = SR(R_mean,R_f,sigma)\n",
    "\n",
    "print('2016-2018平均3年的夏普比率：\\n',SR_3years)\n"
   ]
  },
  {
   "cell_type": "code",
   "execution_count": null,
   "metadata": {},
   "outputs": [],
   "source": [
    "#索提诺比率\n",
    "def SOR(Rp,Rf,Vp):\n",
    "    return (Rp - Rf)/Vp\n",
    "\n",
    "Vp_lower = np.zeros_like(R_mean)\n",
    "\n",
    "for i in range(len(Vp_lower)):\n",
    "    #生产收益率为负的时间序列\n",
    "    R_neg = R_fund.iloc[:,i][R_fund.iloc[:,i] < 0] \n",
    "    #年化下行收益标准差\n",
    "    Vp_lower[i] = np.sqrt(252)*np.sqrt(np.sum(R_neg**2)/len(R_neg))\n",
    "    print(R_fund.columns[i]+'收益下行标准差:',Vp_lower[i])\n",
    "    \n",
    "SOR_3years = SOR(R_mean,R_f,Vp_lower)\n",
    "\n",
    "print('2016-2018平均3年的索提诺比率：\\n',SOR_3years)\n"
   ]
  },
  {
   "cell_type": "code",
   "execution_count": null,
   "metadata": {},
   "outputs": [],
   "source": [
    "import statsmodels.api as sm\n",
    "\n",
    "HS300 = pd.read_excel(r'C:\\Users\\Administrator\\Desktop\\沪深300指数.xlsx',header = 0,index_col = 0)\n",
    "\n",
    "#计算日收益率\n",
    "R_HS300 = np.log(HS300/HS300.shift(1))\n",
    "R_HS300 = R_HS300.dropna()\n",
    "\n",
    "# 特雷诺比率\n",
    "def TR(Rp,Rf,beta):\n",
    "    return (Rp - Rf)/beta\n",
    "\n",
    "betas = np.zeros_like(R_mean)\n",
    "cons = np.zeros_like(R_mean)\n",
    "X = R_HS300\n",
    "X_addcons = sm.add_constant(X)\n",
    "\n",
    "for i in range(len(R_mean)):\n",
    "    #获取基金产品时间序列\n",
    "    Y = R_fund.iloc[:,i]\n",
    "    #使用线性回归计算beta值\n",
    "    model = sm.OLS(endog=Y,exog=X_addcons)\n",
    "    result = model.fit()\n",
    "    cons[i] = result.params[0]\n",
    "    betas[i] = result.params[1]\n",
    "    print(R_fund.columns[i] + 'beta = ',betas[i])\n",
    "    \n",
    "TR_3years = TR(R_mean,R_f,betas)\n",
    "print('2016-2018平均3年的特雷诺比率：\\n',TR_3years)\n"
   ]
  },
  {
   "cell_type": "code",
   "execution_count": null,
   "metadata": {},
   "outputs": [],
   "source": [
    "# 信息比率\n",
    "def IR(Rp,Rb,te):\n",
    "    return (Rp - Rb)/te\n",
    "\n",
    "TE_fund = np.zeros_like(R_mean)\n",
    "\n",
    "for i in range(len(R_mean)):\n",
    "    TD = np.array(R_fund.iloc[:,i]) - np.array(R_HS300.iloc[:,0])\n",
    "    TE_fund[i] = TD.std()*np.sqrt(252)\n",
    "    print(R_fund.columns[i] + '跟踪误差',TE_fund[i])\n",
    "    \n",
    "R_mean_HS300 = np.array(R_HS300.mean()*252)\n",
    "IR_3years = IR(R_mean,R_mean_HS300,TE_fund)\n",
    "print('2016-2018平均3年的信息比率：\\n',IR_3years)\n"
   ]
  }
 ],
 "metadata": {
  "language_info": {
   "name": "python"
  }
 },
 "nbformat": 4,
 "nbformat_minor": 2
}
