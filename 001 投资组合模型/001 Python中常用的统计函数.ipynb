{
 "cells": [
  {
   "cell_type": "markdown",
   "metadata": {},
   "source": [
    "# Python中常用的统计函数"
   ]
  },
  {
   "cell_type": "markdown",
   "metadata": {},
   "source": [
    "## Numpy 中统计函数的使用\n",
    "\n",
    "在金融产品定价、风险管理建模领域，带领运用到模拟，而模拟的核心就是生产随机数。通常情况下，计算机产生的随机数并非是真正的随机数，而是按照某设定的分布生成的，Python中的Numpy模块提供了基于各种统计分布函数的随机数，例如：二项分布、几何分布、泊松分布等离散型分布；正态分布、t分布、均匀分布、F分布、贝塔分布、卡方分布、对数分布等连续性分布，可以根据需要比较方便的生产随机数。\n",
    "\n"
   ]
  },
  {
   "cell_type": "markdown",
   "metadata": {},
   "source": [
    "### random 模块的随机抽样\n",
    "Numpy 中的 random 子模块提供了上述常用的分布抽样方法，各分布函数详细的用法可以参照官网介绍，其常用的分布函数用法如下："
   ]
  },
  {
   "cell_type": "code",
   "execution_count": null,
   "metadata": {},
   "outputs": [],
   "source": [
    "# 简单随机抽样\n",
    "'''\n",
    "random.Generator.random(size=None, dtype=np.float64, out=None)\n",
    "size:抽样的规模\n",
    "抽样范围[0.0,1.0)\n",
    "'''\n",
    "import numpy.random as npr\n",
    "\n",
    "rand_sample = npr.random(5)\n",
    "print('size = ',len(rand_sample))\n",
    "print('抽样结果：',rand_sample )\n"
   ]
  },
  {
   "cell_type": "code",
   "execution_count": null,
   "metadata": {},
   "outputs": [],
   "source": [
    "# 正态分布随机抽样\n",
    "'''\n",
    "random.Generator.normal(loc=0.0, scale=1.0, size=None)\n",
    "loc:均值\n",
    "scale:标准方差\n",
    "size:抽样规模\n",
    "'''\n",
    "x_norm = npr.normal(loc=0,scale=1,size=10000)\n",
    "print('正态分布的均值',round(x_norm.mean(),2))\n",
    "print('正态分布的标准差',round(x_norm.std(),2))\n"
   ]
  },
  {
   "cell_type": "code",
   "execution_count": null,
   "metadata": {},
   "outputs": [],
   "source": [
    "# 对数正态分布随机抽样\n",
    "'''\n",
    "random.Generator.lognormal(mean=0.0, sigma=1.0, size=None)\n",
    "mean:均值\n",
    "sigma:标准方差\n",
    "size:抽样规模\n",
    "'''\n",
    "x_log = npr.lognormal(mean=0,sigma=1,size=10000)\n",
    "\n",
    "print('对数正态分布的均值',round(x_log.mean(),2))\n",
    "print('对数正态分布的标准差',round(x_log.std(),2))\n"
   ]
  },
  {
   "cell_type": "code",
   "execution_count": null,
   "metadata": {},
   "outputs": [],
   "source": [
    "# t分布随机抽样\n",
    "'''\n",
    "random.Generator.standard_t(df, size=None)\n",
    "df:自由度\n",
    "size:抽样规模\n",
    "'''\n",
    "x_t1 = npr.standard_t(df=2,size=10000)\n",
    "\n",
    "print('t分布的均值',round(x_t1.mean(),2))\n",
    "print('t分布的标准差',round(x_t1.std(),2))\n"
   ]
  },
  {
   "cell_type": "markdown",
   "metadata": {},
   "source": [
    "### 统计量\n",
    "Numpy 也提供了计算常用统计量的函数，例如：百分位、分位数函数，详细的函数使用请参照官网介绍，其常用的统计量函数如下："
   ]
  },
  {
   "cell_type": "code",
   "execution_count": null,
   "metadata": {},
   "outputs": [],
   "source": [
    "'''\n",
    "numpy.percentile(a, q, axis=None, out=None, overwrite_input=False, interpolation='linear', keepdims=False)\n",
    "a:array_like，数组\n",
    "q:array_like of float，0-100之间的一个百分比数值\n",
    "返回结果：a由小到大排列的q/100位置的数据\n",
    "'''\n",
    "import numpy as np\n",
    "\n",
    "a = np.array([7, 4,3, 2, 1])\n",
    "np_percentile = np.percentile(a=a,q=25)\n",
    "print('q百分比对应位置数值',np_percentile)\n",
    "#q百分比对应位置数值 2.0\n",
    "\n",
    "'''\n",
    "numpy.quantile(a, q, axis=None, out=None, overwrite_input=False, interpolation='linear', keepdims=False)\n",
    "a:array_like，数组\n",
    "q:array_like of float，0-1之间的一个分位数值\n",
    "返回结果：a由小到大排列的q分位数对应位置的数据\n",
    "'''\n",
    "a = np.array([7, 4,3, 2, 1])\n",
    "np_quantile = np.quantile(a=a,q=0.25)\n",
    "print('q分位数对应位置数值',np_quantile)\n",
    "#q分位数对应位置数值 2.0"
   ]
  },
  {
   "cell_type": "markdown",
   "metadata": {},
   "source": [
    "## Scipy中 stats 模块的统计函数\n",
    "在Scipy中，也有一个统计分析的子模块stats，相关功能包括描述性统计、连续概率分析、统计检验等，描述性统计主要是偏度、峰度、众数等；常见的分布函数：正态分布、t分布、均匀分布、F分布、贝塔分布、卡方分布、对数分布、二项分布等。"
   ]
  },
  {
   "cell_type": "markdown",
   "metadata": {},
   "source": [
    "### stats 中常用的随机分布函数\n",
    "stats 模块各随机分布常用的子函数主要是rvs（按指定分布生成随机数）、pdf（概率密度函数）、cdf（累积分布函数）、ppf（分位点函数，即cdf的反函数），其详细用法可以参照官网介绍。本文以 norm（正态分布）为例展示其Python中的用法："
   ]
  },
  {
   "cell_type": "code",
   "execution_count": null,
   "metadata": {},
   "outputs": [],
   "source": [
    "from scipy.stats import norm\n",
    "\n",
    "#从均值0.5、方差1的正态分布中随机抽取10000个样本\n",
    "rand_norm = norm.rvs(loc=0.5,scale=1,size=10000)\n",
    "\n",
    "plt.figure(figsize=(9,6))\n",
    "plt.hist(rand_norm,bins=30)\n",
    "plt.ylabel('频数')\n",
    "plt.grid('True')\n"
   ]
  },
  {
   "cell_type": "code",
   "execution_count": null,
   "metadata": {},
   "outputs": [],
   "source": [
    "'''\n",
    "pdf(x, loc=0, scale=1)\n",
    "x:array_like\n",
    "loc:均值，默认0\n",
    "scale：标准方差，默认1\n",
    "'''\n",
    "#标准正态分布的概率密度函数\n",
    "norm_pdf = norm.pdf(0.2)\n",
    "print('0.2对应的概率密度值：',norm_pdf)\n",
    "#标准正态分布的累积分布函数\n",
    "norm_cdf = norm.cdf(0)\n",
    "print('0对应的累计概率：',norm_cdf)\n",
    "#标准正态分布的分位点函数\n",
    "norm_ppf = norm.ppf(0.5)\n",
    "print('0.5对应的分位点：',norm_ppf)\n",
    "'''\n",
    "0.2对应的概率密度值： 0.3910426939754559\n",
    "0对应的累计概率： 0.5\n",
    "0.5对应的分位点： 0.0\n",
    "'''\n"
   ]
  },
  {
   "cell_type": "markdown",
   "metadata": {},
   "source": [
    "### 正态性统计检验\n",
    "在金融领域，许多情况下会假定样本服从正态分布，因此在构建金融模型之前，需要对样本数据进行正态性检验，stats提供了检验变量分布的多种方法，其详细的用法可以参照官网介绍。本文以正态检验为例进行说明，其Python程序如下："
   ]
  },
  {
   "cell_type": "code",
   "execution_count": null,
   "metadata": {},
   "outputs": [],
   "source": [
    "'''\n",
    "scipy.stats.kstest(rvs, cdf, args=(), N=20, alternative='two-sided', mode='auto')\n",
    "rvs:array_like,需检验数据\n",
    "cdf：设定检验的分布类型\n",
    "返回结果：\n",
    "statistic：统计量\n",
    "pvalue：p值\n",
    "'''\n",
    "#p值小于5%，显著，即不服从正态分布\n",
    "x = np.linspace(-15, 15, 9)\n",
    "stats.kstest(rvs=x, cdf='norm')\n",
    "\n",
    "'''\n",
    "scipy.stats.anderson(x, dist='norm')\n",
    "x:array_like,需检验数据\n",
    "dist：设定检验的分布类型\n",
    "返回结果：\n",
    "statistic：统计量\n",
    "critical_values：显著性水平对应临界值统计量\n",
    "significance_level：显著性水平\n",
    "'''\n",
    "#1%对应的临界值统计量大于statistic，即不服从正态分布\n",
    "x = np.linspace(-15, 15, 9)\n",
    "stats.anderson(x,dist='norm')\n",
    "\n",
    "'''\n",
    "scipy.stats.shapiro(x)\n",
    "x:array_like,需检验数据\n",
    "返回结果：\n",
    "statistic：统计量\n",
    "pvalue：p值\n",
    "'''\n",
    "##p值大于5%，服从正态分布\n",
    "x = np.linspace(-15, 15, 50)\n",
    "stats.shapiro(x)\n",
    "\n",
    "'''\n",
    "scipy.stats.normaltest(a, axis=0, nan_policy='propagate')\n",
    "a:array_like,需检验数据\n",
    "axis:默认是0\n",
    "返回结果：\n",
    "statistic：统计量\n",
    "pvalue：p值\n",
    "'''\n",
    "##p值小于1%，不服从正态分布\n",
    "x = np.linspace(-15, 15, 50)\n",
    "stats.normaltest(x)\n"
   ]
  }
 ],
 "metadata": {
  "language_info": {
   "name": "python"
  }
 },
 "nbformat": 4,
 "nbformat_minor": 2
}
